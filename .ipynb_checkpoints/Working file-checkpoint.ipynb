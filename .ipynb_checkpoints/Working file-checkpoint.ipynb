{
 "cells": [
  {
   "cell_type": "code",
   "execution_count": 3,
   "metadata": {
    "colab_type": "text",
    "id": "l7rYV2UYDLWU"
   },
   "outputs": [],
   "source": [
    "import yfinance as yf"
   ]
  },
  {
   "cell_type": "code",
   "execution_count": 7,
   "metadata": {},
   "outputs": [],
   "source": [
    "stock=yf.Ticker('AAPL')"
   ]
  },
  {
   "cell_type": "code",
   "execution_count": 8,
   "metadata": {},
   "outputs": [
    {
     "ename": "AttributeError",
     "evalue": "'Ticker' object has no attribute 'balance_sheethi'",
     "output_type": "error",
     "traceback": [
      "\u001b[1;31m---------------------------------------------------------------------------\u001b[0m",
      "\u001b[1;31mAttributeError\u001b[0m                            Traceback (most recent call last)",
      "\u001b[1;32m<ipython-input-8-da98160f041f>\u001b[0m in \u001b[0;36m<module>\u001b[1;34m\u001b[0m\n\u001b[1;32m----> 1\u001b[1;33m \u001b[0mstock\u001b[0m\u001b[1;33m.\u001b[0m\u001b[0mbalance_sheethi\u001b[0m\u001b[1;33m\u001b[0m\u001b[1;33m\u001b[0m\u001b[0m\n\u001b[0m",
      "\u001b[1;31mAttributeError\u001b[0m: 'Ticker' object has no attribute 'balance_sheethi'"
     ]
    }
   ],
   "source": [
    "stock.balance_sheethi"
   ]
  },
  {
   "cell_type": "code",
   "execution_count": 1,
   "metadata": {
    "colab": {},
    "colab_type": "code",
    "id": "K6fQgz17DLWV"
   },
   "outputs": [],
   "source": [
    "# import libraries"
   ]
  },
  {
   "cell_type": "code",
   "execution_count": 2,
   "metadata": {
    "colab": {},
    "colab_type": "code",
    "id": "MCPEmjYIDLWZ"
   },
   "outputs": [],
   "source": [
    "import pandas as pd\n",
    "import numpy as np\n",
    "import tensorflow as tf\n",
    "import matplotlib.pyplot as plt\n",
    "from sklearn.model_selection import train_test_split"
   ]
  },
  {
   "cell_type": "code",
   "execution_count": 3,
   "metadata": {
    "colab": {},
    "colab_type": "code",
    "id": "z48xwfzIDLWc"
   },
   "outputs": [],
   "source": [
    "# read dataset (use the same one as Workshop5)"
   ]
  },
  {
   "cell_type": "code",
   "execution_count": 4,
   "metadata": {
    "colab": {
     "base_uri": "https://localhost:8080/",
     "height": 224
    },
    "colab_type": "code",
    "id": "Y225v7OtDLWf",
    "outputId": "24abca68-1eb9-42d4-b778-287e25f29dfc"
   },
   "outputs": [
    {
     "data": {
      "text/html": [
       "<div>\n",
       "<style scoped>\n",
       "    .dataframe tbody tr th:only-of-type {\n",
       "        vertical-align: middle;\n",
       "    }\n",
       "\n",
       "    .dataframe tbody tr th {\n",
       "        vertical-align: top;\n",
       "    }\n",
       "\n",
       "    .dataframe thead th {\n",
       "        text-align: right;\n",
       "    }\n",
       "</style>\n",
       "<table border=\"1\" class=\"dataframe\">\n",
       "  <thead>\n",
       "    <tr style=\"text-align: right;\">\n",
       "      <th></th>\n",
       "      <th>Close/Last</th>\n",
       "      <th>Volume</th>\n",
       "      <th>Open</th>\n",
       "      <th>High</th>\n",
       "      <th>Low</th>\n",
       "    </tr>\n",
       "    <tr>\n",
       "      <th>Date</th>\n",
       "      <th></th>\n",
       "      <th></th>\n",
       "      <th></th>\n",
       "      <th></th>\n",
       "      <th></th>\n",
       "    </tr>\n",
       "  </thead>\n",
       "  <tbody>\n",
       "    <tr>\n",
       "      <th>2020-09-11</th>\n",
       "      <td>$85.27</td>\n",
       "      <td>7103251</td>\n",
       "      <td>$84.95</td>\n",
       "      <td>$85.85</td>\n",
       "      <td>$84.15</td>\n",
       "    </tr>\n",
       "    <tr>\n",
       "      <th>2020-09-10</th>\n",
       "      <td>$84.88</td>\n",
       "      <td>7551958</td>\n",
       "      <td>$85.8</td>\n",
       "      <td>$87.07</td>\n",
       "      <td>$84.5275</td>\n",
       "    </tr>\n",
       "    <tr>\n",
       "      <th>2020-09-09</th>\n",
       "      <td>$85.86</td>\n",
       "      <td>6928650</td>\n",
       "      <td>$85.934</td>\n",
       "      <td>$86.827</td>\n",
       "      <td>$84.46</td>\n",
       "    </tr>\n",
       "    <tr>\n",
       "      <th>2020-09-08</th>\n",
       "      <td>$85.41</td>\n",
       "      <td>11083140</td>\n",
       "      <td>$85.27</td>\n",
       "      <td>$87.5834</td>\n",
       "      <td>$84.77</td>\n",
       "    </tr>\n",
       "    <tr>\n",
       "      <th>2020-09-04</th>\n",
       "      <td>$86.27</td>\n",
       "      <td>10349370</td>\n",
       "      <td>$87.095</td>\n",
       "      <td>$87.78</td>\n",
       "      <td>$85.31</td>\n",
       "    </tr>\n",
       "  </tbody>\n",
       "</table>\n",
       "</div>"
      ],
      "text/plain": [
       "           Close/Last    Volume     Open      High       Low\n",
       "Date                                                        \n",
       "2020-09-11     $85.27   7103251   $84.95    $85.85    $84.15\n",
       "2020-09-10     $84.88   7551958    $85.8    $87.07  $84.5275\n",
       "2020-09-09     $85.86   6928650  $85.934   $86.827    $84.46\n",
       "2020-09-08     $85.41  11083140   $85.27  $87.5834    $84.77\n",
       "2020-09-04     $86.27  10349370  $87.095    $87.78    $85.31"
      ]
     },
     "execution_count": 4,
     "metadata": {},
     "output_type": "execute_result"
    }
   ],
   "source": [
    "# Before running this, upload the dataset to Google Colab\n",
    "df = pd.read_csv('./HistoricalQuotes_SBUX.csv', delimiter=', ', index_col=0, parse_dates=True, engine='python')\n",
    "df.head()"
   ]
  },
  {
   "cell_type": "code",
   "execution_count": 5,
   "metadata": {
    "colab": {},
    "colab_type": "code",
    "id": "sPUqZjqhDLWj"
   },
   "outputs": [],
   "source": [
    "# clean the data, convert to numeric"
   ]
  },
  {
   "cell_type": "code",
   "execution_count": 6,
   "metadata": {
    "colab": {
     "base_uri": "https://localhost:8080/",
     "height": 227
    },
    "colab_type": "code",
    "id": "3UV77qTNDLWm",
    "outputId": "0b50a8dc-b40d-4ea1-8c8a-d63488d526ac"
   },
   "outputs": [
    {
     "name": "stdout",
     "output_type": "stream",
     "text": [
      "<class 'pandas.core.frame.DataFrame'>\n",
      "DatetimeIndex: 2518 entries, 2020-09-11 to 2010-09-13\n",
      "Data columns (total 5 columns):\n",
      " #   Column      Non-Null Count  Dtype  \n",
      "---  ------      --------------  -----  \n",
      " 0   Close/Last  2518 non-null   float64\n",
      " 1   Volume      2518 non-null   int64  \n",
      " 2   Open        2518 non-null   float64\n",
      " 3   High        2518 non-null   float64\n",
      " 4   Low         2518 non-null   float64\n",
      "dtypes: float64(4), int64(1)\n",
      "memory usage: 118.0 KB\n"
     ]
    }
   ],
   "source": [
    "def clean(text):\n",
    "    return text.replace('$', '')\n",
    "\n",
    "for c in ['Close/Last', 'Open', 'High', 'Low']:\n",
    "    df[c] = pd.to_numeric(df[c].apply(clean))\n",
    "df.info()"
   ]
  },
  {
   "cell_type": "code",
   "execution_count": 7,
   "metadata": {
    "colab": {},
    "colab_type": "code",
    "id": "uB8h6G45DLWo"
   },
   "outputs": [],
   "source": [
    "# create the windowed dataset"
   ]
  },
  {
   "cell_type": "code",
   "execution_count": 8,
   "metadata": {
    "colab": {
     "base_uri": "https://localhost:8080/",
     "height": 328
    },
    "colab_type": "code",
    "id": "dskTGPGyDLWr",
    "outputId": "db61ef47-f0cd-41f5-cfba-f9c63986871e"
   },
   "outputs": [
    {
     "data": {
      "text/html": [
       "<div>\n",
       "<style scoped>\n",
       "    .dataframe tbody tr th:only-of-type {\n",
       "        vertical-align: middle;\n",
       "    }\n",
       "\n",
       "    .dataframe tbody tr th {\n",
       "        vertical-align: top;\n",
       "    }\n",
       "\n",
       "    .dataframe thead th {\n",
       "        text-align: right;\n",
       "    }\n",
       "</style>\n",
       "<table border=\"1\" class=\"dataframe\">\n",
       "  <thead>\n",
       "    <tr style=\"text-align: right;\">\n",
       "      <th></th>\n",
       "      <th>Close[t+0]</th>\n",
       "      <th>Close[t+1]</th>\n",
       "      <th>Close[t+2]</th>\n",
       "      <th>Close[t+3]</th>\n",
       "      <th>Close[t+4]</th>\n",
       "      <th>Close[t+5]</th>\n",
       "      <th>Close[t+6]</th>\n",
       "      <th>Close[t+7]</th>\n",
       "      <th>Close[t+8]</th>\n",
       "      <th>Close[t+9]</th>\n",
       "    </tr>\n",
       "    <tr>\n",
       "      <th>Date</th>\n",
       "      <th></th>\n",
       "      <th></th>\n",
       "      <th></th>\n",
       "      <th></th>\n",
       "      <th></th>\n",
       "      <th></th>\n",
       "      <th></th>\n",
       "      <th></th>\n",
       "      <th></th>\n",
       "      <th></th>\n",
       "    </tr>\n",
       "  </thead>\n",
       "  <tbody>\n",
       "    <tr>\n",
       "      <th>2020-09-11</th>\n",
       "      <td>85.27</td>\n",
       "      <td>84.88</td>\n",
       "      <td>85.86</td>\n",
       "      <td>85.41</td>\n",
       "      <td>86.27</td>\n",
       "      <td>86.48</td>\n",
       "      <td>88.35</td>\n",
       "      <td>86.05</td>\n",
       "      <td>84.47</td>\n",
       "      <td>85.00</td>\n",
       "    </tr>\n",
       "    <tr>\n",
       "      <th>2020-09-10</th>\n",
       "      <td>84.88</td>\n",
       "      <td>85.86</td>\n",
       "      <td>85.41</td>\n",
       "      <td>86.27</td>\n",
       "      <td>86.48</td>\n",
       "      <td>88.35</td>\n",
       "      <td>86.05</td>\n",
       "      <td>84.47</td>\n",
       "      <td>85.00</td>\n",
       "      <td>83.41</td>\n",
       "    </tr>\n",
       "    <tr>\n",
       "      <th>2020-09-09</th>\n",
       "      <td>85.86</td>\n",
       "      <td>85.41</td>\n",
       "      <td>86.27</td>\n",
       "      <td>86.48</td>\n",
       "      <td>88.35</td>\n",
       "      <td>86.05</td>\n",
       "      <td>84.47</td>\n",
       "      <td>85.00</td>\n",
       "      <td>83.41</td>\n",
       "      <td>82.41</td>\n",
       "    </tr>\n",
       "    <tr>\n",
       "      <th>2020-09-08</th>\n",
       "      <td>85.41</td>\n",
       "      <td>86.27</td>\n",
       "      <td>86.48</td>\n",
       "      <td>88.35</td>\n",
       "      <td>86.05</td>\n",
       "      <td>84.47</td>\n",
       "      <td>85.00</td>\n",
       "      <td>83.41</td>\n",
       "      <td>82.41</td>\n",
       "      <td>82.72</td>\n",
       "    </tr>\n",
       "    <tr>\n",
       "      <th>2020-09-04</th>\n",
       "      <td>86.27</td>\n",
       "      <td>86.48</td>\n",
       "      <td>88.35</td>\n",
       "      <td>86.05</td>\n",
       "      <td>84.47</td>\n",
       "      <td>85.00</td>\n",
       "      <td>83.41</td>\n",
       "      <td>82.41</td>\n",
       "      <td>82.72</td>\n",
       "      <td>78.68</td>\n",
       "    </tr>\n",
       "  </tbody>\n",
       "</table>\n",
       "</div>"
      ],
      "text/plain": [
       "            Close[t+0]  Close[t+1]  Close[t+2]  Close[t+3]  Close[t+4]  \\\n",
       "Date                                                                     \n",
       "2020-09-11       85.27       84.88       85.86       85.41       86.27   \n",
       "2020-09-10       84.88       85.86       85.41       86.27       86.48   \n",
       "2020-09-09       85.86       85.41       86.27       86.48       88.35   \n",
       "2020-09-08       85.41       86.27       86.48       88.35       86.05   \n",
       "2020-09-04       86.27       86.48       88.35       86.05       84.47   \n",
       "\n",
       "            Close[t+5]  Close[t+6]  Close[t+7]  Close[t+8]  Close[t+9]  \n",
       "Date                                                                    \n",
       "2020-09-11       86.48       88.35       86.05       84.47       85.00  \n",
       "2020-09-10       88.35       86.05       84.47       85.00       83.41  \n",
       "2020-09-09       86.05       84.47       85.00       83.41       82.41  \n",
       "2020-09-08       84.47       85.00       83.41       82.41       82.72  \n",
       "2020-09-04       85.00       83.41       82.41       82.72       78.68  "
      ]
     },
     "execution_count": 8,
     "metadata": {},
     "output_type": "execute_result"
    }
   ],
   "source": [
    "window_size = 10\n",
    "\n",
    "df_window = pd.concat([df['Close/Last'].shift(-i) for i in range(window_size)], axis=1)\n",
    "df_window.columns = [f'Close[t+{i}]' for i in range(window_size)]\n",
    "df_window.dropna(inplace=True)\n",
    "df_window.head()"
   ]
  },
  {
   "cell_type": "code",
   "execution_count": 9,
   "metadata": {
    "colab": {},
    "colab_type": "code",
    "id": "yRdXVJwODLWw"
   },
   "outputs": [],
   "source": [
    "# use 2018 again to split the train and test set"
   ]
  },
  {
   "cell_type": "code",
   "execution_count": 10,
   "metadata": {
    "colab": {},
    "colab_type": "code",
    "id": "60ayXhzoDLW2"
   },
   "outputs": [],
   "source": [
    "mask = df_window.index < pd.to_datetime('2018', format='%Y')\n",
    "df_train = df_window.loc[mask]\n",
    "df_test = df_window.loc[~mask]"
   ]
  },
  {
   "cell_type": "code",
   "execution_count": 11,
   "metadata": {
    "colab": {},
    "colab_type": "code",
    "id": "ECsT78mCDLW5"
   },
   "outputs": [],
   "source": [
    "# scale the data to [0,1], using the train min and max"
   ]
  },
  {
   "cell_type": "code",
   "execution_count": 12,
   "metadata": {
    "colab": {},
    "colab_type": "code",
    "id": "uHEHJsnWDLW7"
   },
   "outputs": [],
   "source": [
    "min_val = tf.reduce_min(df_train.values)\n",
    "max_val = tf.reduce_max(df_train.values)\n",
    "\n",
    "# scale\n",
    "train_data = (df_train.values - min_val) / (max_val - min_val)\n",
    "test_data = (df_test.values - min_val) / (max_val - min_val)\n",
    "\n",
    "# cast from float64 to float32 (compatibility reasons)\n",
    "train_data = tf.cast(train_data, tf.float32)\n",
    "test_data = tf.cast(test_data, tf.float32)"
   ]
  },
  {
   "cell_type": "code",
   "execution_count": null,
   "metadata": {},
   "outputs": [],
   "source": []
  },
  {
   "cell_type": "code",
   "execution_count": 13,
   "metadata": {},
   "outputs": [
    {
     "data": {
      "text/plain": [
       "array([[8.6228180e-01, 8.6961132e-01, 8.5919571e-01, ..., 8.7346900e-01,\n",
       "        8.7385476e-01, 8.7886971e-01],\n",
       "       [8.6961132e-01, 8.5919571e-01, 8.5668820e-01, ..., 8.7385476e-01,\n",
       "        8.7886971e-01, 9.0606618e-01],\n",
       "       [8.5919571e-01, 8.5668820e-01, 8.5977435e-01, ..., 8.7886971e-01,\n",
       "        9.0606618e-01, 9.0201563e-01],\n",
       "       ...,\n",
       "       [6.6544507e-03, 6.7508919e-03, 6.5580094e-03, ..., 7.7153050e-04,\n",
       "        2.7003568e-03, 2.8932395e-03],\n",
       "       [6.7508919e-03, 6.5580094e-03, 0.0000000e+00, ..., 2.7003568e-03,\n",
       "        2.8932395e-03, 3.1825635e-03],\n",
       "       [6.5580094e-03, 0.0000000e+00, 4.6291831e-03, ..., 2.8932395e-03,\n",
       "        3.1825635e-03, 2.8932395e-03]], dtype=float32)"
      ]
     },
     "execution_count": 13,
     "metadata": {},
     "output_type": "execute_result"
    }
   ],
   "source": [
    "train_data.numpy()"
   ]
  },
  {
   "cell_type": "code",
   "execution_count": 14,
   "metadata": {
    "colab": {},
    "colab_type": "code",
    "id": "nSfItSQ0DLW9"
   },
   "outputs": [],
   "source": [
    "# do a train-test split into our training and validation set"
   ]
  },
  {
   "cell_type": "code",
   "execution_count": 15,
   "metadata": {
    "colab": {},
    "colab_type": "code",
    "id": "7px4zlCfDLXC"
   },
   "outputs": [],
   "source": [
    "X_train, X_val = train_test_split(train_data.numpy()) # train_data is a tensor, convert it back to numpy"
   ]
  },
  {
   "cell_type": "code",
   "execution_count": null,
   "metadata": {
    "colab": {},
    "colab_type": "code",
    "id": "ZBqV8EoFDLXG"
   },
   "outputs": [],
   "source": []
  },
  {
   "cell_type": "code",
   "execution_count": 16,
   "metadata": {
    "colab": {},
    "colab_type": "code",
    "id": "Jyty8lUQDLXK"
   },
   "outputs": [],
   "source": [
    "# Use this code to define a custom Sampling layer\n",
    "# Reference: https://keras.io/examples/generative/vae/"
   ]
  },
  {
   "cell_type": "code",
   "execution_count": 17,
   "metadata": {
    "colab": {},
    "colab_type": "code",
    "id": "090_Ge2SDLXN"
   },
   "outputs": [],
   "source": [
    "from tensorflow.keras.layers import Layer\n",
    "\n",
    "class Sampling(Layer):\n",
    "    \"\"\"Uses (z_mean, z_log_var) to sample z, the vector encoding a digit.\"\"\"\n",
    "\n",
    "    def call(self, inputs):\n",
    "        z_mean, z_log_var = inputs\n",
    "        batch = tf.shape(z_mean)[0]\n",
    "        dim = tf.shape(z_mean)[1]\n",
    "        epsilon = tf.keras.backend.random_normal(shape=(batch, dim))\n",
    "        return z_mean + tf.exp(0.5 * z_log_var) * epsilon"
   ]
  },
  {
   "cell_type": "code",
   "execution_count": null,
   "metadata": {
    "colab": {},
    "colab_type": "code",
    "id": "8uz8TyABDLXS"
   },
   "outputs": [],
   "source": []
  },
  {
   "cell_type": "code",
   "execution_count": 18,
   "metadata": {
    "colab": {},
    "colab_type": "code",
    "id": "WrPC4VZGDLXW"
   },
   "outputs": [],
   "source": [
    "# Create the Variational Autoencoder\n",
    "# The architecture will be similar to Workshop5, except we will use the Sampling layer as our \"bottleneck\" layer"
   ]
  },
  {
   "cell_type": "code",
   "execution_count": 19,
   "metadata": {
    "colab": {},
    "colab_type": "code",
    "id": "ILi76qjZDLXY"
   },
   "outputs": [],
   "source": [
    "from tensorflow.keras.models import Model\n",
    "from tensorflow.keras.layers import Input, Dense"
   ]
  },
  {
   "cell_type": "code",
   "execution_count": 20,
   "metadata": {
    "colab": {
     "base_uri": "https://localhost:8080/",
     "height": 385
    },
    "colab_type": "code",
    "id": "B9zEJR9kDLXb",
    "outputId": "2ab6d9bd-1b00-4498-e574-2e1287b524c8"
   },
   "outputs": [
    {
     "name": "stdout",
     "output_type": "stream",
     "text": [
      "Model: \"model\"\n",
      "__________________________________________________________________________________________________\n",
      "Layer (type)                    Output Shape         Param #     Connected to                     \n",
      "==================================================================================================\n",
      "input_1 (InputLayer)            [(None, 10)]         0                                            \n",
      "__________________________________________________________________________________________________\n",
      "dense (Dense)                   (None, 16)           176         input_1[0][0]                    \n",
      "__________________________________________________________________________________________________\n",
      "dense_1 (Dense)                 (None, 8)            136         dense[0][0]                      \n",
      "__________________________________________________________________________________________________\n",
      "dense_2 (Dense)                 (None, 2)            18          dense_1[0][0]                    \n",
      "__________________________________________________________________________________________________\n",
      "dense_3 (Dense)                 (None, 2)            18          dense_1[0][0]                    \n",
      "__________________________________________________________________________________________________\n",
      "sampling (Sampling)             (None, 2)            0           dense_2[0][0]                    \n",
      "                                                                 dense_3[0][0]                    \n",
      "==================================================================================================\n",
      "Total params: 348\n",
      "Trainable params: 348\n",
      "Non-trainable params: 0\n",
      "__________________________________________________________________________________________________\n"
     ]
    }
   ],
   "source": [
    "sequence_len = X_train.shape[1]\n",
    "latent_dim = 2\n",
    "\n",
    "# encoder (funnel shape)\n",
    "encoder_input = Input(shape=(sequence_len,))\n",
    "x = Dense(16, activation='relu')(encoder_input)\n",
    "x = Dense(8, activation='relu')(x)\n",
    "\n",
    "# bottleneck (sampling layer)\n",
    "z_mean = Dense(latent_dim)(x)\n",
    "z_log_var = Dense(latent_dim)(x)\n",
    "z = Sampling()([z_mean, z_log_var])\n",
    "\n",
    "# output the mean, variance, and sampled value\n",
    "encoder = Model(encoder_input, [z_mean, z_log_var, z])\n",
    "encoder.summary()"
   ]
  },
  {
   "cell_type": "code",
   "execution_count": 21,
   "metadata": {
    "colab": {
     "base_uri": "https://localhost:8080/",
     "height": 262
    },
    "colab_type": "code",
    "id": "fmVcGERfDLXe",
    "outputId": "3b0628d1-a517-419c-96bf-97aeefc4e925"
   },
   "outputs": [
    {
     "name": "stdout",
     "output_type": "stream",
     "text": [
      "Model: \"model_1\"\n",
      "_________________________________________________________________\n",
      "Layer (type)                 Output Shape              Param #   \n",
      "=================================================================\n",
      "input_2 (InputLayer)         [(None, 2)]               0         \n",
      "_________________________________________________________________\n",
      "dense_4 (Dense)              (None, 8)                 24        \n",
      "_________________________________________________________________\n",
      "dense_5 (Dense)              (None, 10)                90        \n",
      "=================================================================\n",
      "Total params: 114\n",
      "Trainable params: 114\n",
      "Non-trainable params: 0\n",
      "_________________________________________________________________\n"
     ]
    }
   ],
   "source": [
    "decoder_input = Input(shape=(latent_dim,))\n",
    "x = Dense(8, activation='relu')(decoder_input)\n",
    "x = Dense(sequence_len, activation='sigmoid')(x)\n",
    "\n",
    "decoder = Model(decoder_input, x)\n",
    "decoder.summary()"
   ]
  },
  {
   "cell_type": "code",
   "execution_count": null,
   "metadata": {
    "colab": {},
    "colab_type": "code",
    "id": "_aO4gTbfDLXh"
   },
   "outputs": [],
   "source": []
  },
  {
   "cell_type": "code",
   "execution_count": 22,
   "metadata": {
    "colab": {},
    "colab_type": "code",
    "id": "WIFDWFlODLXk"
   },
   "outputs": [],
   "source": [
    "# Define the VAE model\n",
    "# We will need to incorporate the KL divergence loss computation\n",
    "# This is done as a custom Model, by overriding the train_step function."
   ]
  },
  {
   "cell_type": "code",
   "execution_count": 23,
   "metadata": {
    "colab": {},
    "colab_type": "code",
    "id": "LQMFodsiDLXr"
   },
   "outputs": [],
   "source": [
    "class VAE(Model):\n",
    "    def __init__(self, encoder, decoder, **kwargs):\n",
    "        super(VAE, self).__init__(**kwargs)\n",
    "        self.encoder = encoder\n",
    "        self.decoder = decoder\n",
    "\n",
    "    def call(self, x):\n",
    "      encoded = self.encoder(x)\n",
    "      decoded = self.decoder(encoded)\n",
    "      return decoded      \n",
    "\n",
    "    def train_step(self, data):\n",
    "        if isinstance(data, tuple):\n",
    "            data = data[0] # get the first entry\n",
    "\n",
    "        # tf.GradientTape() can be considered like a \"tape recorder\"\n",
    "        # it will record the operations performed (e.g. tf.reduce_mean) within this block\n",
    "        # and then do automatic differentiation for you based on the operations\n",
    "        #\n",
    "        # Automatic differentiation will enable backward propagation (without manually\n",
    "        # computing the equations :))\n",
    "        with tf.GradientTape() as tape:\n",
    "            z_mean, z_log_var, z = self.encoder(data)\n",
    "            reconstruction = self.decoder(z)\n",
    "\n",
    "            reconstruction_loss = tf.reduce_mean(\n",
    "                tf.keras.losses.binary_crossentropy(data, reconstruction)\n",
    "            )\n",
    "            reconstruction_loss *= sequence_len\n",
    "            kl_loss = 1 + z_log_var - tf.square(z_mean) - tf.exp(z_log_var)\n",
    "            kl_loss = tf.reduce_mean(kl_loss)\n",
    "            kl_loss *= -0.5\n",
    "            total_loss = reconstruction_loss + kl_loss\n",
    "\n",
    "        # compute the gradient of the loss w.r.t. to the weights\n",
    "        grads = tape.gradient(total_loss, self.trainable_weights)\n",
    "        self.optimizer.apply_gradients(zip(grads, self.trainable_weights))\n",
    "\n",
    "        return {\n",
    "            \"loss\": total_loss,\n",
    "            \"reconstruction_loss\": reconstruction_loss,\n",
    "            \"kl_loss\": kl_loss,\n",
    "        }"
   ]
  },
  {
   "cell_type": "code",
   "execution_count": 24,
   "metadata": {
    "colab": {},
    "colab_type": "code",
    "id": "bsGO8-KPDLXv"
   },
   "outputs": [],
   "source": [
    "# Train the VAE"
   ]
  },
  {
   "cell_type": "code",
   "execution_count": 25,
   "metadata": {
    "colab": {},
    "colab_type": "code",
    "id": "wlkoMg1NDLX3"
   },
   "outputs": [],
   "source": [
    "model = VAE(encoder, decoder)\n",
    "model.compile(optimizer='adam', loss='mae')"
   ]
  },
  {
   "cell_type": "code",
   "execution_count": 26,
   "metadata": {
    "colab": {
     "base_uri": "https://localhost:8080/",
     "height": 738
    },
    "colab_type": "code",
    "id": "8KdrwC8wDLX5",
    "outputId": "471f965e-879d-4c98-95f1-b839d271d279"
   },
   "outputs": [
    {
     "name": "stdout",
     "output_type": "stream",
     "text": [
      "Train on 1372 samples, validate on 458 samples\n",
      "Epoch 1/20\n",
      "WARNING:tensorflow:Gradients do not exist for variables ['dense_3/kernel:0', 'dense_3/bias:0'] when minimizing the loss.\n",
      "WARNING:tensorflow:Gradients do not exist for variables ['dense_3/kernel:0', 'dense_3/bias:0'] when minimizing the loss.\n",
      "1372/1372 [==============================] - 1s 390us/sample - loss: 0.2726 - val_loss: 0.2629\n",
      "Epoch 2/20\n",
      "1372/1372 [==============================] - 0s 13us/sample - loss: 0.2658 - val_loss: 0.2569\n",
      "Epoch 3/20\n",
      "1372/1372 [==============================] - 0s 12us/sample - loss: 0.2608 - val_loss: 0.2527\n",
      "Epoch 4/20\n",
      "1372/1372 [==============================] - 0s 12us/sample - loss: 0.2569 - val_loss: 0.2491\n",
      "Epoch 5/20\n",
      "1372/1372 [==============================] - 0s 13us/sample - loss: 0.2532 - val_loss: 0.2453\n",
      "Epoch 6/20\n",
      "1372/1372 [==============================] - 0s 12us/sample - loss: 0.2492 - val_loss: 0.2410\n",
      "Epoch 7/20\n",
      "1372/1372 [==============================] - 0s 12us/sample - loss: 0.2442 - val_loss: 0.2352\n",
      "Epoch 8/20\n",
      "1372/1372 [==============================] - 0s 12us/sample - loss: 0.2376 - val_loss: 0.2276\n",
      "Epoch 9/20\n",
      "1372/1372 [==============================] - 0s 12us/sample - loss: 0.2290 - val_loss: 0.2175\n",
      "Epoch 10/20\n",
      "1372/1372 [==============================] - 0s 12us/sample - loss: 0.2180 - val_loss: 0.2048\n",
      "Epoch 11/20\n",
      "1372/1372 [==============================] - 0s 13us/sample - loss: 0.2042 - val_loss: 0.1895\n",
      "Epoch 12/20\n",
      "1372/1372 [==============================] - 0s 12us/sample - loss: 0.1876 - val_loss: 0.1716\n",
      "Epoch 13/20\n",
      "1372/1372 [==============================] - 0s 12us/sample - loss: 0.1689 - val_loss: 0.1524\n",
      "Epoch 14/20\n",
      "1372/1372 [==============================] - 0s 13us/sample - loss: 0.1490 - val_loss: 0.1332\n",
      "Epoch 15/20\n",
      "1372/1372 [==============================] - 0s 13us/sample - loss: 0.1310 - val_loss: 0.1178\n",
      "Epoch 16/20\n",
      "1372/1372 [==============================] - 0s 13us/sample - loss: 0.1170 - val_loss: 0.1066\n",
      "Epoch 17/20\n",
      "1372/1372 [==============================] - 0s 12us/sample - loss: 0.1065 - val_loss: 0.0974\n",
      "Epoch 18/20\n",
      "1372/1372 [==============================] - 0s 13us/sample - loss: 0.0972 - val_loss: 0.0892\n",
      "Epoch 19/20\n",
      "1372/1372 [==============================] - 0s 12us/sample - loss: 0.0890 - val_loss: 0.0820\n",
      "Epoch 20/20\n",
      "1372/1372 [==============================] - 0s 12us/sample - loss: 0.0816 - val_loss: 0.0748\n"
     ]
    }
   ],
   "source": [
    "history = model.fit(X_train, X_train,\n",
    "          epochs=20,\n",
    "          batch_size=128,\n",
    "          validation_data=(X_val, X_val))"
   ]
  },
  {
   "cell_type": "code",
   "execution_count": 27,
   "metadata": {
    "colab": {
     "base_uri": "https://localhost:8080/",
     "height": 279
    },
    "colab_type": "code",
    "id": "ObWg7WTVDLX7",
    "outputId": "90b203dc-8aa1-4e60-be84-1c5a04eefc8c"
   },
   "outputs": [
    {
     "data": {
      "image/png": "[encoded data removed]",
      "text/plain": [
       "<Figure size 432x288 with 1 Axes>"
      ]
     },
     "metadata": {
      "needs_background": "light"
     },
     "output_type": "display_data"
    }
   ],
   "source": [
    "plt.plot(history.history['loss'], label='training')\n",
    "plt.plot(history.history['val_loss'], label='validation')\n",
    "#plt.plot(history.history['kl_loss'], label='kl')\n",
    "#plt.plot(history.history['reconstruction_loss'], label='reconstruction')\n",
    "plt.xlabel('epochs')\n",
    "plt.ylabel('loss')\n",
    "plt.legend()\n",
    "plt.show()"
   ]
  },
  {
   "cell_type": "code",
   "execution_count": null,
   "metadata": {
    "colab": {},
    "colab_type": "code",
    "id": "oYES_aBOEdEw"
   },
   "outputs": [],
   "source": []
  },
  {
   "cell_type": "code",
   "execution_count": 28,
   "metadata": {
    "colab": {},
    "colab_type": "code",
    "id": "hkACHHScFlHm"
   },
   "outputs": [],
   "source": [
    "# Compute the reconstructions and loses for train and test"
   ]
  },
  {
   "cell_type": "code",
   "execution_count": 29,
   "metadata": {
    "colab": {},
    "colab_type": "code",
    "id": "DRO3Jy1wFc6n"
   },
   "outputs": [],
   "source": [
    "from tensorflow.keras.losses import mae"
   ]
  },
  {
   "cell_type": "code",
   "execution_count": 30,
   "metadata": {
    "colab": {},
    "colab_type": "code",
    "id": "8d_jQfg7Fgos"
   },
   "outputs": [],
   "source": [
    "train_reconstructions = model.predict(train_data)\n",
    "train_loss = mae(train_reconstructions, train_data)\n",
    "\n",
    "test_reconstructions = model.predict(test_data)\n",
    "test_loss = mae(test_reconstructions, test_data)"
   ]
  },
  {
   "cell_type": "code",
   "execution_count": null,
   "metadata": {
    "colab": {},
    "colab_type": "code",
    "id": "D9mBJPyoF2Mo"
   },
   "outputs": [],
   "source": []
  },
  {
   "cell_type": "code",
   "execution_count": 31,
   "metadata": {
    "colab": {},
    "colab_type": "code",
    "id": "i8A9-iqGF09k"
   },
   "outputs": [],
   "source": [
    "# Use a threshold value that is one standard deviation above the mean"
   ]
  },
  {
   "cell_type": "code",
   "execution_count": 32,
   "metadata": {
    "colab": {},
    "colab_type": "code",
    "id": "6CT--pJMFse4"
   },
   "outputs": [],
   "source": [
    "threshold = np.mean(train_loss) + np.std(train_loss)"
   ]
  },
  {
   "cell_type": "code",
   "execution_count": 33,
   "metadata": {
    "colab": {},
    "colab_type": "code",
    "id": "IiRfq2hHFy2A"
   },
   "outputs": [],
   "source": [
    "# apply the threshold on data and return an array of labels\n",
    "# where 1 means anomaly, 0 means not an anomaly"
   ]
  },
  {
   "cell_type": "code",
   "execution_count": 34,
   "metadata": {
    "colab": {},
    "colab_type": "code",
    "id": "m6fW0T6fFzwq"
   },
   "outputs": [],
   "source": [
    "def get_anomaly_labels(data, loss, threshold):\n",
    "    is_anomaly = np.zeros(len(data))\n",
    "    is_anomaly[loss > threshold] = 1\n",
    "    return is_anomaly\n",
    "\n",
    "train_labels = get_anomaly_labels(train_data, train_loss, threshold)\n",
    "test_labels = get_anomaly_labels(test_data, test_loss, threshold)"
   ]
  },
  {
   "cell_type": "code",
   "execution_count": 35,
   "metadata": {
    "colab": {},
    "colab_type": "code",
    "id": "OqS8iWM6F6ks"
   },
   "outputs": [],
   "source": [
    "# plot the train and test sequences and mark the anomalies"
   ]
  },
  {
   "cell_type": "code",
   "execution_count": 36,
   "metadata": {
    "colab": {
     "base_uri": "https://localhost:8080/",
     "height": 350
    },
    "colab_type": "code",
    "id": "efMZ5HK1GDqd",
    "outputId": "8f20d5ab-e68a-4693-a74c-aa4080f02249"
   },
   "outputs": [
    {
     "data": {
      "image/png": "[encoded data removed]",
      "text/plain": [
       "<Figure size 720x360 with 1 Axes>"
      ]
     },
     "metadata": {
      "needs_background": "light"
     },
     "output_type": "display_data"
    }
   ],
   "source": [
    "def plot_anomalies(data, dates, labels, title):\n",
    "    # anchor each row on the first day\n",
    "    # we also need the dates so that we can plot the series in chronological order\n",
    "    start = pd.Series(data[:, 0], index=dates)\n",
    "    is_anomaly = (labels == 1)\n",
    "    \n",
    "    plt.figure(figsize=(10, 5))\n",
    "    start.iloc[~is_anomaly].plot(subplots=True, linestyle='', marker='o', ms=1, label='normal')\n",
    "    start.iloc[is_anomaly].plot(subplots=True, linestyle='', marker='x', color='orange', label='abnormal')\n",
    "    plt.legend()\n",
    "    plt.title(title)\n",
    "    plt.show()\n",
    "\n",
    "plot_anomalies(train_data, df_train.index, train_labels, 'Training set (before 2018)')"
   ]
  },
  {
   "cell_type": "code",
   "execution_count": 37,
   "metadata": {
    "colab": {
     "base_uri": "https://localhost:8080/",
     "height": 350
    },
    "colab_type": "code",
    "id": "Ul-RRju5F81-",
    "outputId": "4a229918-c1e5-4fd3-8b21-d0b092baa88e"
   },
   "outputs": [
    {
     "data": {
      "image/png": "[encoded data removed]",
      "text/plain": [
       "<Figure size 720x360 with 1 Axes>"
      ]
     },
     "metadata": {
      "needs_background": "light"
     },
     "output_type": "display_data"
    }
   ],
   "source": [
    "plot_anomalies(test_data, df_test.index, test_labels, 'Test set (2018 and later)')"
   ]
  },
  {
   "cell_type": "code",
   "execution_count": 38,
   "metadata": {
    "colab": {},
    "colab_type": "code",
    "id": "1oDjfD14GAR8"
   },
   "outputs": [],
   "source": [
    "# Compared to the Vanilla Autoencoder, the VAE seems to be more sensitive in detecting abnormalities. \n",
    "# This can be used if you don't have much data and want to model a distribution."
   ]
  },
  {
   "cell_type": "code",
   "execution_count": null,
   "metadata": {
    "colab": {},
    "colab_type": "code",
    "id": "kW9eFFMAG7xj"
   },
   "outputs": [],
   "source": []
  }
 ],
 "metadata": {
  "colab": {
   "collapsed_sections": [],
   "name": "HW5_VAE.ipynb",
   "provenance": []
  },
  "kernelspec": {
   "display_name": "Python 3",
   "language": "python",
   "name": "python3"
  },
  "language_info": {
   "codemirror_mode": {
    "name": "ipython",
    "version": 3
   },
   "file_extension": ".py",
   "mimetype": "text/x-python",
   "name": "python",
   "nbconvert_exporter": "python",
   "pygments_lexer": "ipython3",
   "version": "3.7.9"
  }
 },
 "nbformat": 4,
 "nbformat_minor": 1
}
